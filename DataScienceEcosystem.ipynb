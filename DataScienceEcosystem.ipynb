{
    "cells": [
        {
            "cell_type": "markdown",
            "metadata": {
                "collapsed": true
            },
            "source": "<h1>Data Science Tools and Ecosystem<h1>"
        },
        {
            "cell_type": "markdown",
            "metadata": {},
            "source": "In this notebook, Data Science Tools and Ecosystem are summarized."
        },
        {
            "cell_type": "markdown",
            "metadata": {},
            "source": "Objectives:\n<Ul>\n    <li>data sceince tools</li>\n    <li>languages used in data sceince</li>\n    <li>how to use git</li>\n</Ul>"
        },
        {
            "cell_type": "markdown",
            "metadata": {},
            "source": "Some of the popular languages that Data Scientists use are:\n<ol>\n    <li>Python</li>\n    <li>R</li>\n    <li>JavaScript</li>\n</ol>"
        },
        {
            "cell_type": "markdown",
            "metadata": {},
            "source": "Some of the commonly used libraries used by Data Scientists include:\n<ol>\n    <li>TensorFlow</li>\n    <li>Pandas</li>\n    <li>NumPy</li>\n</ol>"
        },
        {
            "cell_type": "markdown",
            "metadata": {},
            "source": "<table>\n    <tr>\n        <th>Data Science Tools</th>\n    </tr>\n    <tr>\n        <th>Hadoop</th>\n    </tr>\n    <tr>\n        <th>Spark</th>\n    </tr>\n    <tr>\n        <th>Jupyter Notebooks</th>\n    </tr>\n</table>"
        },
        {
            "cell_type": "markdown",
            "metadata": {},
            "source": "<h3>Below are a few examples of evaluating arithmetic expressions in Python</h3>"
        },
        {
            "cell_type": "code",
            "execution_count": 1,
            "metadata": {},
            "outputs": [
                {
                    "data": {
                        "text/plain": "17"
                    },
                    "execution_count": 1,
                    "metadata": {},
                    "output_type": "execute_result"
                }
            ],
            "source": "# This a simple arithmetic expression to mutiply then add integers\n(3*4)+5"
        },
        {
            "cell_type": "code",
            "execution_count": 2,
            "metadata": {},
            "outputs": [
                {
                    "data": {
                        "text/plain": "3.3333333333333335"
                    },
                    "execution_count": 2,
                    "metadata": {},
                    "output_type": "execute_result"
                }
            ],
            "source": "# This will convert 200 minutes to hours by diving by 60\n200/60"
        },
        {
            "cell_type": "markdown",
            "metadata": {},
            "source": "<h2>Author</h2>\nMusab Aldawod"
        }
    ],
    "metadata": {
        "kernelspec": {
            "display_name": "Python 3.10",
            "language": "python",
            "name": "python3"
        },
        "language_info": {
            "codemirror_mode": {
                "name": "ipython",
                "version": 3
            },
            "file_extension": ".py",
            "mimetype": "text/x-python",
            "name": "python",
            "nbconvert_exporter": "python",
            "pygments_lexer": "ipython3",
            "version": "3.10.9"
        }
    },
    "nbformat": 4,
    "nbformat_minor": 1
}